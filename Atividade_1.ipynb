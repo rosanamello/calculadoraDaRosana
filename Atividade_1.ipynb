{
  "nbformat": 4,
  "nbformat_minor": 0,
  "metadata": {
    "colab": {
      "provenance": [],
      "authorship_tag": "ABX9TyO1XLuwbKDFkfhrCOpPgQla"
    },
    "kernelspec": {
      "name": "python3",
      "display_name": "Python 3"
    },
    "language_info": {
      "name": "python"
    }
  },
  "cells": [
    {
      "cell_type": "markdown",
      "source": [
        "Fazendo uma calculadora"
      ],
      "metadata": {
        "id": "GoBJ-TBZde7N"
      }
    },
    {
      "cell_type": "code",
      "execution_count": null,
      "metadata": {
        "colab": {
          "base_uri": "https://localhost:8080/"
        },
        "id": "OFdgjnSWda_b",
        "outputId": "0ca1d2f6-330c-4f2b-e7ab-d25a91c1ed72"
      },
      "outputs": [
        {
          "name": "stdout",
          "output_type": "stream",
          "text": [
            "Digite o número desejado: 5\n",
            "Digite o outro número desejado: 10\n"
          ]
        }
      ],
      "source": [
        "num1 = float(input(\"Digite o número desejado: \"))        #número flutuante\n",
        "num2 = float(input(\"Digite o outro número desejado: \"))"
      ]
    },
    {
      "cell_type": "code",
      "source": [
        "print(\"Escolha uma operação:\")    # /n quebra a linha\n",
        "print(\"1 Adição\")\n",
        "print(\"2 Subtração\")\n",
        "print(\"3 multiplicação\")\n",
        "print(\"4 Divisão\")\n",
        "print(\"5 Sair\")\n",
        "\n",
        "escolha = input(\"Digite o número da operação desejada 1, 2, 3, 4, 5: \")"
      ],
      "metadata": {
        "colab": {
          "base_uri": "https://localhost:8080/"
        },
        "id": "ApqOlG0qgamP",
        "outputId": "fae72145-2c27-4009-85c9-68ad160f74eb"
      },
      "execution_count": null,
      "outputs": [
        {
          "name": "stdout",
          "output_type": "stream",
          "text": [
            "Escolha uma operação:\n",
            "1 Adição\n",
            "2 Subtração\n",
            "3 multiplicação\n",
            "4 Divisão\n",
            "5 Sair\n",
            "Digite o número da operação desejada 1, 2, 3, 4, 5: 4\n"
          ]
        }
      ]
    },
    {
      "cell_type": "code",
      "source": [
        "if escolha == '1':      #Adição\n",
        "  resultado = num1 + num2\n",
        "  print(f\"{num1} + {num2} = {resultado}\")"
      ],
      "metadata": {
        "id": "ruWSMfQskXWl"
      },
      "execution_count": null,
      "outputs": []
    },
    {
      "cell_type": "code",
      "source": [
        "if escolha == '2':     #Subtração\n",
        "  resultado = num1 - num2\n",
        "  print(f\"{num1} - {num2} = {resultado}\")"
      ],
      "metadata": {
        "id": "K7crSg2Tmdnu"
      },
      "execution_count": null,
      "outputs": []
    },
    {
      "cell_type": "code",
      "source": [
        "if escolha == '3':     #Multiplicação\n",
        "  resultado = num1 * num2\n",
        "  print(f\"{num1} * {num2} = {resultado}\")"
      ],
      "metadata": {
        "id": "6Nn86KN1nFwR"
      },
      "execution_count": null,
      "outputs": []
    },
    {
      "cell_type": "code",
      "source": [
        "if escolha == '4':      #Divisão\n",
        "  resultado = num1 / num2\n",
        "  print(f\"{num1} / {num2} = {resultado}\")"
      ],
      "metadata": {
        "colab": {
          "base_uri": "https://localhost:8080/"
        },
        "id": "fEOTgkehnlFe",
        "outputId": "2249a12e-c005-457a-85e3-48d15749f4ab"
      },
      "execution_count": null,
      "outputs": [
        {
          "output_type": "stream",
          "name": "stdout",
          "text": [
            "5.0 / 10.0 = 0.5\n"
          ]
        }
      ]
    }
  ]
}